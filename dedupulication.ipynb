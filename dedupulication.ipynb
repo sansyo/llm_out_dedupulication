{
  "nbformat": 4,
  "nbformat_minor": 0,
  "metadata": {
    "colab": {
      "provenance": []
    },
    "kernelspec": {
      "name": "python3",
      "display_name": "Python 3"
    },
    "language_info": {
      "name": "python"
    }
  },
  "cells": [
    {
      "cell_type": "code",
      "execution_count": 6,
      "metadata": {
        "colab": {
          "base_uri": "https://localhost:8080/"
        },
        "id": "SbR2Ms_fcTGM",
        "outputId": "6e9ddbde-9550-4c83-ab46-763e5ca12d24"
      },
      "outputs": [
        {
          "output_type": "stream",
          "name": "stdout",
          "text": [
            "[(0, '圧'), (0, '縮'), (0, 'い'), (0, 'デ'), (0, 'ー'), (0, 'タ'), (0, 'を'), (0, '短'), (3, 'テ'), (0, 'キ'), (0, 'ス'), (0, 'ト'), (0, 'に'), (0, '変'), (0, '換'), (0, 'す'), (0, 'る'), (1, '縮'), (4, 'ー'), (6, 'を'), (8, 'い'), (0, 'テ'), (10, 'ス'), (12, 'に'), (14, '換'), (16, 'る'), (18, 'デ'), (5, 'タ'), (7, '短'), (9, 'キ'), (11, 'ト'), (13, '変'), (15, 'す'), (17, '')]\n",
            "圧縮いデータを短縮いテキストに変換する圧縮いデーータをを短いテ縮いテキスストにに変換換するる縮デデータタを短短テキキストトに変変換すする\n",
            "圧縮いデータを短キストに変換するテ\n"
          ]
        }
      ],
      "source": [
        "def lz78_encode(text):\n",
        "    dictionary = {}\n",
        "    w = \"\"\n",
        "    result = []\n",
        "    next_index = 1\n",
        "\n",
        "    for c in text:\n",
        "        wc = w + c\n",
        "        if wc not in dictionary:\n",
        "            if w:\n",
        "                result.append((dictionary[w], c))\n",
        "            else:\n",
        "                result.append((0, c))\n",
        "            dictionary[wc] = next_index\n",
        "            next_index += 1\n",
        "            w = \"\"\n",
        "        else:\n",
        "            w = wc\n",
        "\n",
        "    if w:\n",
        "        result.append((dictionary[w], ''))\n",
        "    return result\n",
        "\n",
        "def lz78_decode(compressed):\n",
        "    dictionary = {}\n",
        "    next_index = 1\n",
        "    decoded = []\n",
        "\n",
        "    for (index, char) in compressed:\n",
        "        if index == 0:\n",
        "            decoded.append(char)\n",
        "        else:\n",
        "            decoded.append(dictionary[index] + char)\n",
        "        if len(decoded) > 1:\n",
        "            dictionary[next_index] = decoded[-2] + char\n",
        "        else:\n",
        "            dictionary[next_index] = char\n",
        "        next_index += 1\n",
        "    return ''.join(decoded)\n",
        "\n",
        "text = \"圧縮データを短いテキストに変換する圧縮データを短いテキストに変換する圧縮データを短いテキストに変換する\"\n",
        "compressed = lz78_encode(text)\n",
        "print(compressed)  # 圧縮データの表示\n",
        "decoded = lz78_decode(compressed)\n",
        "print(decoded)  # 圧縮前のデータと同じか確認\n",
        "\n",
        "# 圧縮データを短いテキストに変換する\n",
        "summary = \"\".join([char if idx == 0 else \"\" for idx, char in compressed])\n",
        "print(summary)  # 繰り返しを削除した文\n"
      ]
    },
    {
      "cell_type": "code",
      "source": [
        "def kmp_table(pattern):\n",
        "    \"\"\"Build the KMP failure function table.\"\"\"\n",
        "    table = [0] * len(pattern)\n",
        "    j = 0\n",
        "    for i in range(1, len(pattern)):\n",
        "        while j > 0 and pattern[i] != pattern[j]:\n",
        "            j = table[j-1]\n",
        "        if pattern[i] == pattern[j]:\n",
        "            j += 1\n",
        "        table[i] = j\n",
        "    return table\n",
        "\n",
        "def kmp_search(text, pattern):\n",
        "    \"\"\"Find the start index of the first occurrence of pattern in text using KMP.\"\"\"\n",
        "    table = kmp_table(pattern)\n",
        "    j = 0\n",
        "    for i in range(len(text)):\n",
        "        while j > 0 and text[i] != pattern[j]:\n",
        "            j = table[j-1]\n",
        "        if text[i] == pattern[j]:\n",
        "            j += 1\n",
        "        if j == len(pattern):\n",
        "            return i - len(pattern) + 1\n",
        "    return -1\n",
        "\n",
        "def remove_repeats(text):\n",
        "    \"\"\"Remove repeating patterns from text using KMP.\"\"\"\n",
        "    n = len(text)\n",
        "    for size in range(n // 2, 0, -1):  # Maximum possible repeating pattern size to minimum\n",
        "        pattern = text[:size]\n",
        "        if kmp_search(text[size:], pattern) != -1:  # If repeating pattern is found\n",
        "            return pattern + remove_repeats(text[size * 2:])\n",
        "    return text\n",
        "\n",
        "text = \"圧縮データを短いテキストに変換する圧縮データを短いテキストに変換する圧縮データを短いテキストに変換する\"\n",
        "print(remove_repeats(text))\n"
      ],
      "metadata": {
        "colab": {
          "base_uri": "https://localhost:8080/"
        },
        "id": "neoSYDcudWOC",
        "outputId": "b66df528-46c8-48a7-cddd-dc0d28248f90"
      },
      "execution_count": 8,
      "outputs": [
        {
          "output_type": "stream",
          "name": "stdout",
          "text": [
            "圧縮データを短いテキストに変換する圧縮データを短いテキストに変換する\n"
          ]
        }
      ]
    },
    {
      "cell_type": "code",
      "source": [
        "def build_suffix_array(string):\n",
        "    n = len(string)\n",
        "    suffixes = [(string[i:], i) for i in range(n)]\n",
        "    suffixes.sort()\n",
        "    suffix_array = [suffix[1] for suffix in suffixes]\n",
        "    return suffix_array\n",
        "\n",
        "def build_lcp(string, suffix_array):\n",
        "    n = len(string)\n",
        "    rank = [0] * n\n",
        "    for i in range(n):\n",
        "        rank[suffix_array[i]] = i\n",
        "    lcp = [0] * (n-1)\n",
        "    k = 0\n",
        "    for i in range(n):\n",
        "        if rank[i] == n - 1:\n",
        "            k = 0\n",
        "            continue\n",
        "        j = suffix_array[rank[i] + 1]\n",
        "        while i + k < n and j + k < n and string[i+k] == string[j+k]:\n",
        "            k += 1\n",
        "        lcp[rank[i]] = k\n",
        "        if k > 0:\n",
        "            k -= 1\n",
        "    return lcp\n",
        "\n",
        "def remove_longest_repeating_substring(string):\n",
        "    suffix_array = build_suffix_array(string)\n",
        "    lcp = build_lcp(string, suffix_array)\n",
        "    if max(lcp) == 0:\n",
        "        return string\n",
        "    idx = lcp.index(max(lcp))\n",
        "    start = suffix_array[idx]\n",
        "    end = start + max(lcp)\n",
        "    return string[:start] + string[end:]\n",
        "text = \"圧縮データを短いテキストに変換する圧縮データを短いテキストに変換する圧縮データを短いテキストに変換する\"\n",
        "#text = \"if current_string + char not in dictionary:if current_string + char not in dictionary:\"\n",
        "print(remove_longest_repeating_substring(text))\n"
      ],
      "metadata": {
        "colab": {
          "base_uri": "https://localhost:8080/"
        },
        "id": "t6SVxgVSeZw7",
        "outputId": "98afdfe1-9cc5-4826-f1cf-9ab60927ebac"
      },
      "execution_count": 10,
      "outputs": [
        {
          "output_type": "stream",
          "name": "stdout",
          "text": [
            "圧縮データを短いテキストに変換する\n"
          ]
        }
      ]
    }
  ]
}